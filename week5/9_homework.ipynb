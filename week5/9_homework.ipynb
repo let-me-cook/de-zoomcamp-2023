{
 "cells": [
  {
   "cell_type": "code",
   "execution_count": 10,
   "metadata": {},
   "outputs": [],
   "source": [
    "from pyspark.sql import SparkSession\n",
    "import pyspark.sql.functions as F\n",
    "from datetime import datetime\n",
    "import os"
   ]
  },
  {
   "cell_type": "code",
   "execution_count": 2,
   "metadata": {},
   "outputs": [
    {
     "name": "stderr",
     "output_type": "stream",
     "text": [
      "Setting default log level to \"WARN\".\n",
      "To adjust logging level use sc.setLogLevel(newLevel). For SparkR, use setLogLevel(newLevel).\n"
     ]
    },
    {
     "name": "stdout",
     "output_type": "stream",
     "text": [
      "23/04/03 16:39:24 WARN NativeCodeLoader: Unable to load native-hadoop library for your platform... using builtin-java classes where applicable\n"
     ]
    }
   ],
   "source": [
    "spark = SparkSession.builder.master(\"local[*]\").appName(\"test\").getOrCreate()"
   ]
  },
  {
   "cell_type": "code",
   "execution_count": 3,
   "metadata": {},
   "outputs": [
    {
     "name": "stderr",
     "output_type": "stream",
     "text": [
      "                                                                                \r"
     ]
    }
   ],
   "source": [
    "df = (\n",
    "    spark\n",
    "    .read\n",
    "    .option(\"header\", \"true\")\n",
    "    .option(\"inferSchema\", \"true\")\n",
    "    .csv(\"data/fhvhv_tripdata_2021-06.csv.gz\")\n",
    ")"
   ]
  },
  {
   "cell_type": "code",
   "execution_count": 13,
   "metadata": {},
   "outputs": [
    {
     "name": "stdout",
     "output_type": "stream",
     "text": [
      "root\n",
      " |-- dispatching_base_num: string (nullable = true)\n",
      " |-- pickup_datetime: timestamp (nullable = true)\n",
      " |-- dropoff_datetime: timestamp (nullable = true)\n",
      " |-- PULocationID: integer (nullable = true)\n",
      " |-- DOLocationID: integer (nullable = true)\n",
      " |-- SR_Flag: string (nullable = true)\n",
      " |-- Affiliated_base_number: string (nullable = true)\n",
      "\n"
     ]
    }
   ],
   "source": [
    "df.printSchema()"
   ]
  },
  {
   "cell_type": "code",
   "execution_count": 5,
   "metadata": {},
   "outputs": [
    {
     "name": "stderr",
     "output_type": "stream",
     "text": [
      "                                                                                \r"
     ]
    }
   ],
   "source": [
    "df.repartition(12).write.parquet(\"data/homework/\")"
   ]
  },
  {
   "cell_type": "code",
   "execution_count": 7,
   "metadata": {},
   "outputs": [
    {
     "name": "stdout",
     "output_type": "stream",
     "text": [
      "total 284M\n",
      "-rw-r--r-- 1 user user   0 Apr  3 16:44 _SUCCESS\n",
      "-rw-r--r-- 1 user user 24M Apr  3 16:44 part-00000-bdf89fad-d395-4734-b089-19c76026d34e-c000.snappy.parquet\n",
      "-rw-r--r-- 1 user user 24M Apr  3 16:44 part-00001-bdf89fad-d395-4734-b089-19c76026d34e-c000.snappy.parquet\n",
      "-rw-r--r-- 1 user user 24M Apr  3 16:44 part-00002-bdf89fad-d395-4734-b089-19c76026d34e-c000.snappy.parquet\n",
      "-rw-r--r-- 1 user user 24M Apr  3 16:44 part-00003-bdf89fad-d395-4734-b089-19c76026d34e-c000.snappy.parquet\n",
      "-rw-r--r-- 1 user user 24M Apr  3 16:44 part-00004-bdf89fad-d395-4734-b089-19c76026d34e-c000.snappy.parquet\n",
      "-rw-r--r-- 1 user user 24M Apr  3 16:44 part-00005-bdf89fad-d395-4734-b089-19c76026d34e-c000.snappy.parquet\n",
      "-rw-r--r-- 1 user user 24M Apr  3 16:44 part-00006-bdf89fad-d395-4734-b089-19c76026d34e-c000.snappy.parquet\n",
      "-rw-r--r-- 1 user user 24M Apr  3 16:44 part-00007-bdf89fad-d395-4734-b089-19c76026d34e-c000.snappy.parquet\n",
      "-rw-r--r-- 1 user user 24M Apr  3 16:44 part-00008-bdf89fad-d395-4734-b089-19c76026d34e-c000.snappy.parquet\n",
      "-rw-r--r-- 1 user user 24M Apr  3 16:44 part-00009-bdf89fad-d395-4734-b089-19c76026d34e-c000.snappy.parquet\n",
      "-rw-r--r-- 1 user user 24M Apr  3 16:44 part-00010-bdf89fad-d395-4734-b089-19c76026d34e-c000.snappy.parquet\n",
      "-rw-r--r-- 1 user user 24M Apr  3 16:44 part-00011-bdf89fad-d395-4734-b089-19c76026d34e-c000.snappy.parquet\n"
     ]
    },
    {
     "data": {
      "text/plain": [
       "0"
      ]
     },
     "execution_count": 7,
     "metadata": {},
     "output_type": "execute_result"
    }
   ],
   "source": [
    "os.system(\"ls -lh data/homework/\")"
   ]
  },
  {
   "cell_type": "code",
   "execution_count": 11,
   "metadata": {},
   "outputs": [
    {
     "name": "stderr",
     "output_type": "stream",
     "text": [
      "[Stage 6:>                                                          (0 + 1) / 1]\r"
     ]
    },
    {
     "name": "stdout",
     "output_type": "stream",
     "text": [
      "+---+------+\n",
      "|day| count|\n",
      "+---+------+\n",
      "| 28|425909|\n",
      "| 26|592505|\n",
      "| 27|509437|\n",
      "| 12|591339|\n",
      "| 22|469568|\n",
      "|  1|417375|\n",
      "| 13|509039|\n",
      "|  6|522753|\n",
      "| 16|479776|\n",
      "|  3|521408|\n",
      "| 20|491630|\n",
      "|  5|604903|\n",
      "| 19|601189|\n",
      "| 15|452470|\n",
      "|  9|483353|\n",
      "| 17|497133|\n",
      "|  4|538917|\n",
      "|  8|462554|\n",
      "| 23|474599|\n",
      "|  7|425771|\n",
      "+---+------+\n",
      "only showing top 20 rows\n",
      "\n"
     ]
    },
    {
     "name": "stderr",
     "output_type": "stream",
     "text": [
      "                                                                                \r"
     ]
    }
   ],
   "source": [
    "(\n",
    "    df\n",
    "    .groupBy(F.dayofmonth(\"pickup_datetime\").alias(\"day\"))\n",
    "    .count()\n",
    "    .show()\n",
    ")"
   ]
  },
  {
   "cell_type": "code",
   "execution_count": 20,
   "metadata": {},
   "outputs": [
    {
     "name": "stderr",
     "output_type": "stream",
     "text": [
      "                                                                                \r"
     ]
    },
    {
     "data": {
      "text/plain": [
       "[Row(max(trip_length)=datetime.timedelta(days=2, seconds=67964))]"
      ]
     },
     "execution_count": 20,
     "metadata": {},
     "output_type": "execute_result"
    }
   ],
   "source": [
    "(\n",
    "    df\n",
    "    .select(F.col(df.dropoff_datetime - df.pickup_datetime).alias(\"trip_length\"))\n",
    "    .agg({\"trip_length\": \"max\"})\n",
    "    .take(1)\n",
    ")"
   ]
  },
  {
   "cell_type": "code",
   "execution_count": 21,
   "metadata": {},
   "outputs": [],
   "source": [
    "zone_df = (\n",
    "    spark\n",
    "    .read\n",
    "    .option(\"header\", \"true\")\n",
    "    .option(\"inferSchema\", \"true\")\n",
    "    .csv(\"data/taxi_zone_lookup.csv\")\n",
    ")"
   ]
  },
  {
   "cell_type": "code",
   "execution_count": 22,
   "metadata": {},
   "outputs": [
    {
     "name": "stdout",
     "output_type": "stream",
     "text": [
      "root\n",
      " |-- dispatching_base_num: string (nullable = true)\n",
      " |-- pickup_datetime: timestamp (nullable = true)\n",
      " |-- dropoff_datetime: timestamp (nullable = true)\n",
      " |-- PULocationID: integer (nullable = true)\n",
      " |-- DOLocationID: integer (nullable = true)\n",
      " |-- SR_Flag: string (nullable = true)\n",
      " |-- Affiliated_base_number: string (nullable = true)\n",
      "\n",
      "root\n",
      " |-- LocationID: integer (nullable = true)\n",
      " |-- Borough: string (nullable = true)\n",
      " |-- Zone: string (nullable = true)\n",
      " |-- service_zone: string (nullable = true)\n",
      "\n"
     ]
    }
   ],
   "source": [
    "df.printSchema()\n",
    "zone_df.printSchema()"
   ]
  },
  {
   "cell_type": "code",
   "execution_count": 27,
   "metadata": {},
   "outputs": [],
   "source": [
    "f_df = (\n",
    "    df\n",
    "    .join(zone_df, df.PULocationID == zone_df.LocationID)\n",
    ")"
   ]
  },
  {
   "cell_type": "code",
   "execution_count": 35,
   "metadata": {},
   "outputs": [
    {
     "name": "stderr",
     "output_type": "stream",
     "text": [
      "                                                                                \r"
     ]
    },
    {
     "data": {
      "text/plain": [
       "[Row(Zone='Crown Heights North', count=231279),\n",
       " Row(Zone='East Village', count=221244),\n",
       " Row(Zone='JFK Airport', count=188867),\n",
       " Row(Zone='Bushwick South', count=187929),\n",
       " Row(Zone='East New York', count=186780),\n",
       " Row(Zone='TriBeCa/Civic Center', count=164344),\n",
       " Row(Zone='LaGuardia Airport', count=161596),\n",
       " Row(Zone='Union Sq', count=158937),\n",
       " Row(Zone='West Village', count=154698),\n",
       " Row(Zone='Astoria', count=152493)]"
      ]
     },
     "execution_count": 35,
     "metadata": {},
     "output_type": "execute_result"
    }
   ],
   "source": [
    "(\n",
    "    f_df\n",
    "    .groupBy(\"Zone\")\n",
    "    .count()\n",
    "    .orderBy(F.col(\"count\").desc())\n",
    "    .take(10)\n",
    ")"
   ]
  },
  {
   "cell_type": "code",
   "execution_count": null,
   "metadata": {},
   "outputs": [],
   "source": []
  }
 ],
 "metadata": {
  "kernelspec": {
   "display_name": "pyspark_env",
   "language": "python",
   "name": "python3"
  },
  "language_info": {
   "codemirror_mode": {
    "name": "ipython",
    "version": 3
   },
   "file_extension": ".py",
   "mimetype": "text/x-python",
   "name": "python",
   "nbconvert_exporter": "python",
   "pygments_lexer": "ipython3",
   "version": "3.8.16"
  },
  "orig_nbformat": 4
 },
 "nbformat": 4,
 "nbformat_minor": 2
}
