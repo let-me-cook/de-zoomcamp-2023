{
 "cells": [
  {
   "cell_type": "code",
   "execution_count": 12,
   "metadata": {},
   "outputs": [],
   "source": [
    "from pyspark.sql import SparkSession\n",
    "from pyspark.sql import functions as F\n",
    "from datetime import datetime\n",
    "from pyspark.sql import types\n",
    "from collections import namedtuple\n",
    "import pandas as pd"
   ]
  },
  {
   "cell_type": "code",
   "execution_count": 3,
   "metadata": {},
   "outputs": [
    {
     "name": "stderr",
     "output_type": "stream",
     "text": [
      "Setting default log level to \"WARN\".\n",
      "To adjust logging level use sc.setLogLevel(newLevel). For SparkR, use setLogLevel(newLevel).\n"
     ]
    },
    {
     "name": "stdout",
     "output_type": "stream",
     "text": [
      "23/04/02 18:56:54 WARN NativeCodeLoader: Unable to load native-hadoop library for your platform... using builtin-java classes where applicable\n",
      "23/04/02 18:56:55 WARN Utils: Service 'SparkUI' could not bind on port 4040. Attempting port 4041.\n"
     ]
    }
   ],
   "source": [
    "spark = SparkSession.builder.master(\"local[*]\").appName(\"test\").getOrCreate()"
   ]
  },
  {
   "cell_type": "code",
   "execution_count": 4,
   "metadata": {},
   "outputs": [
    {
     "data": {
      "text/plain": [
       "'http://dtc-de.asia-southeast1-b.c.de-dtc-375915.internal:4041'"
      ]
     },
     "execution_count": 4,
     "metadata": {},
     "output_type": "execute_result"
    }
   ],
   "source": [
    "spark.sparkContext.uiWebUrl"
   ]
  },
  {
   "cell_type": "code",
   "execution_count": 5,
   "metadata": {},
   "outputs": [
    {
     "name": "stderr",
     "output_type": "stream",
     "text": [
      "                                                                                \r"
     ]
    }
   ],
   "source": [
    "df_green = spark.read.parquet('data/pq/green/*/*')"
   ]
  },
  {
   "cell_type": "code",
   "execution_count": 13,
   "metadata": {},
   "outputs": [],
   "source": [
    "columns = [\"VendorID\", \"lpep_pickup_datetime\", \"PULocationID\", \"DOLocationID\", \"trip_distance\"]\n",
    "duration_rdd = ( \n",
    "    df_green\n",
    "    .select(columns)\n",
    "    .rdd \n",
    ")\n"
   ]
  },
  {
   "cell_type": "code",
   "execution_count": 16,
   "metadata": {},
   "outputs": [],
   "source": [
    "def model_predict(df):\n",
    "    y_pred = df.trip_distance * 5\n",
    "\n",
    "    return y_pred"
   ]
  },
  {
   "cell_type": "code",
   "execution_count": 18,
   "metadata": {},
   "outputs": [],
   "source": [
    "def apply_model_in_batch(rows):\n",
    "    df = pd.DataFrame(rows, columns=columns)\n",
    "    predictions = model_predict(df)\n",
    "\n",
    "    df[\"predicted_duration\"] = predictions\n",
    "\n",
    "    for row in df.itertuples():\n",
    "        yield row\n"
   ]
  },
  {
   "cell_type": "code",
   "execution_count": 21,
   "metadata": {},
   "outputs": [
    {
     "name": "stderr",
     "output_type": "stream",
     "text": [
      "[Stage 8:>                                                          (0 + 1) / 1]\r"
     ]
    },
    {
     "name": "stdout",
     "output_type": "stream",
     "text": [
      "+-----+--------+--------------------+------------+------------+-------------+------------------+\n",
      "|Index|VendorID|lpep_pickup_datetime|PULocationID|DOLocationID|trip_distance|predicted_duration|\n",
      "+-----+--------+--------------------+------------+------------+-------------+------------------+\n",
      "|    0|     2.0|                  {}|          74|         130|        12.77|63.849999999999994|\n",
      "|    1|     NaN|                  {}|          67|          39|          8.0|              40.0|\n",
      "|    2|     2.0|                  {}|         260|         157|         1.27|              6.35|\n",
      "|    3|     2.0|                  {}|          82|          83|         1.25|              6.25|\n",
      "|    4|     2.0|                  {}|         166|          42|         1.84| 9.200000000000001|\n",
      "|    5|     2.0|                  {}|         179|         223|         0.76|               3.8|\n",
      "|    6|     2.0|                  {}|          41|         237|         3.32|16.599999999999998|\n",
      "|    7|     2.0|                  {}|          75|         161|         2.21|             11.05|\n",
      "|    8|     1.0|                  {}|         152|         166|          0.9|               4.5|\n",
      "|    9|     2.0|                  {}|          75|         234|          6.1|              30.5|\n",
      "|   10|     2.0|                  {}|          75|          41|         1.74|               8.7|\n",
      "|   11|     2.0|                  {}|         260|         226|         1.18|5.8999999999999995|\n",
      "|   12|     1.0|                  {}|         129|         129|          2.2|              11.0|\n",
      "|   13|     2.0|                  {}|          74|         126|         3.04|              15.2|\n",
      "|   14|     2.0|                  {}|          61|          61|         0.85|              4.25|\n",
      "|   15|     2.0|                  {}|          66|         164|         5.06|25.299999999999997|\n",
      "|   16|     2.0|                  {}|           7|         179|         1.57|7.8500000000000005|\n",
      "|   17|     2.0|                  {}|          74|         243|          6.8|              34.0|\n",
      "|   18|     2.0|                  {}|          66|          97|         1.06| 5.300000000000001|\n",
      "|   19|     2.0|                  {}|          61|         225|         1.23|              6.15|\n",
      "+-----+--------+--------------------+------------+------------+-------------+------------------+\n",
      "only showing top 20 rows\n",
      "\n"
     ]
    },
    {
     "name": "stderr",
     "output_type": "stream",
     "text": [
      "                                                                                \r"
     ]
    }
   ],
   "source": [
    "duration_rdd.mapPartitions(apply_model_in_batch).toDF().show()"
   ]
  },
  {
   "cell_type": "code",
   "execution_count": null,
   "metadata": {},
   "outputs": [],
   "source": []
  }
 ],
 "metadata": {
  "kernelspec": {
   "display_name": "dtc",
   "language": "python",
   "name": "python3"
  },
  "language_info": {
   "codemirror_mode": {
    "name": "ipython",
    "version": 3
   },
   "file_extension": ".py",
   "mimetype": "text/x-python",
   "name": "python",
   "nbconvert_exporter": "python",
   "pygments_lexer": "ipython3",
   "version": "3.8.16"
  },
  "orig_nbformat": 4
 },
 "nbformat": 4,
 "nbformat_minor": 2
}
